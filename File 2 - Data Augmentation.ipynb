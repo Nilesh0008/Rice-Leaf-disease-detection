{
 "cells": [
  {
   "cell_type": "markdown",
   "id": "7d0b0813",
   "metadata": {},
   "source": [
    "## PRCP-1001-RiceLeaf  & Team Code - PTID-CDS-DEC21-1251 - File no.2"
   ]
  },
  {
   "cell_type": "markdown",
   "id": "7227a05b",
   "metadata": {},
   "source": [
    "### Data generation by Augmentation"
   ]
  },
  {
   "cell_type": "code",
   "execution_count": 53,
   "id": "a71b4f2a",
   "metadata": {},
   "outputs": [],
   "source": [
    "from tensorflow.keras.utils import to_categorical\n",
    "from tensorflow.keras.preprocessing.image import load_img, img_to_array\n",
    "from tensorflow.python.keras.preprocessing.image import ImageDataGenerator\n",
    "import numpy as np\n",
    "import os\n",
    "from PIL import Image\n"
   ]
  },
  {
   "cell_type": "code",
   "execution_count": 54,
   "id": "c2d77d7e",
   "metadata": {},
   "outputs": [],
   "source": [
    "datagen = ImageDataGenerator(rescale=1/255,\n",
    "                                   rotation_range=40,\n",
    "                             width_shift_range=0.2,\n",
    "                             height_shift_range=0.2,\n",
    "                             shear_range=0.2,\n",
    "                             zoom_range=0.2,\n",
    "                             horizontal_flip=True,\n",
    "                             vertical_flip=True,\n",
    "                             fill_mode =\"reflect\")"
   ]
  },
  {
   "cell_type": "code",
   "execution_count": 43,
   "id": "dc70bd0b",
   "metadata": {},
   "outputs": [
    {
     "name": "stdout",
     "output_type": "stream",
     "text": [
      "Found 107 images belonging to 3 classes.\n"
     ]
    }
   ],
   "source": [
    "i=0\n",
    "for batch in datagen.flow_from_directory(directory=r\"E:\\Test1\\PRCP-1001-RiceLeaf\\Data\\train\",\n",
    "                                         batch_size=32,\n",
    "                                         target_size=(256,256),\n",
    "                                         color_mode=\"rgb\",\n",
    "                                         save_to_dir=r\"E:\\Test1\\PRCP-1001-RiceLeaf\\Data\\train\",\n",
    "                                         save_prefix=\"aug\",\n",
    "                                         save_format=\"png\"):\n",
    "    i+=1\n",
    "    if i>5:\n",
    "        break"
   ]
  },
  {
   "cell_type": "code",
   "execution_count": 47,
   "id": "57b8f155",
   "metadata": {},
   "outputs": [
    {
     "name": "stdout",
     "output_type": "stream",
     "text": [
      "Found 35 images belonging to 1 classes.\n"
     ]
    }
   ],
   "source": [
    "i=0\n",
    "for batch in datagen.flow_from_directory(directory=r\"E:\\Test1\\PRCP-1001-RiceLeaf\\Data\\train\",\n",
    "                                         batch_size=32,\n",
    "                                         target_size=(256,256),\n",
    "                                         color_mode=\"rgb\",\n",
    "                                         save_to_dir=r\"E:\\Test1\\PRCP-1001-RiceLeaf\\Data\\train\",\n",
    "                                         save_prefix=\"aug\",\n",
    "                                         save_format=\"png\"):\n",
    "    i+=1\n",
    "    if i>40:\n",
    "        break"
   ]
  },
  {
   "cell_type": "code",
   "execution_count": 50,
   "id": "dbb74556",
   "metadata": {},
   "outputs": [
    {
     "name": "stdout",
     "output_type": "stream",
     "text": [
      "Found 4 images belonging to 1 classes.\n"
     ]
    }
   ],
   "source": [
    "i=0\n",
    "for batch in datagen.flow_from_directory(directory=r\"E:\\Test1\\PRCP-1001-RiceLeaf\\Data\\valid\",\n",
    "                                         batch_size=32,\n",
    "                                         target_size=(256,256),\n",
    "                                         color_mode=\"rgb\",\n",
    "                                         save_to_dir=r\"E:\\Test1\\PRCP-1001-RiceLeaf\\Data\\valid\",\n",
    "                                         save_prefix=\"aug\",\n",
    "                                         save_format=\"png\"):\n",
    "    i+=1\n",
    "    if i>40:\n",
    "        break"
   ]
  },
  {
   "cell_type": "code",
   "execution_count": 60,
   "id": "2af403c7",
   "metadata": {},
   "outputs": [],
   "source": [
    "train_datagen = ImageDataGenerator(rescale=1/255,\n",
    "                                   rotation_range=40,\n",
    "                             width_shift_range=0.2,\n",
    "                             height_shift_range=0.2,\n",
    "                             shear_range=0.2,\n",
    "                             zoom_range=0.2,\n",
    "                             horizontal_flip=True,\n",
    "                             vertical_flip=True,\n",
    "                             fill_mode =\"reflect\")\n",
    "valid_datagen = ImageDataGenerator(rescale=1/255)"
   ]
  },
  {
   "cell_type": "code",
   "execution_count": 59,
   "id": "ca21c52a",
   "metadata": {},
   "outputs": [
    {
     "name": "stdout",
     "output_type": "stream",
     "text": [
      "Found 504 images belonging to 3 classes.\n"
     ]
    }
   ],
   "source": [
    "valid_generator = valid_datagen.flow_from_directory(\n",
    "    directory=r\"E:\\Test1\\PRCP-1001-RiceLeaf\\Data\\valid\",\n",
    "    target_size=(224, 224),\n",
    "    color_mode=\"rgb\",\n",
    "    batch_size=32,\n",
    "    class_mode=\"categorical\",\n",
    "    shuffle=True,\n",
    "    seed=42\n",
    ")"
   ]
  },
  {
   "cell_type": "code",
   "execution_count": 61,
   "id": "cd10f653",
   "metadata": {},
   "outputs": [
    {
     "name": "stdout",
     "output_type": "stream",
     "text": [
      "Found 2343 images belonging to 3 classes.\n",
      "Found 504 images belonging to 3 classes.\n"
     ]
    }
   ],
   "source": [
    "BATCH_SIZE= 32\n",
    "train_generator = train_datagen.flow_from_directory(r'E:\\Test1\\PRCP-1001-RiceLeaf\\Data\\train',\n",
    "                                             target_size=(256,256),\n",
    "                                             batch_size=BATCH_SIZE,\n",
    "                                             class_mode ='categorical')\n",
    "valid_generator = valid_datagen.flow_from_directory(r'E:\\Test1\\PRCP-1001-RiceLeaf\\Data\\valid',\n",
    "                                             target_size=(256,256),\n",
    "                                             batch_size=BATCH_SIZE,\n",
    "                                             class_mode ='categorical')"
   ]
  }
 ],
 "metadata": {
  "kernelspec": {
   "display_name": "Python 3",
   "language": "python",
   "name": "python3"
  },
  "language_info": {
   "codemirror_mode": {
    "name": "ipython",
    "version": 3
   },
   "file_extension": ".py",
   "mimetype": "text/x-python",
   "name": "python",
   "nbconvert_exporter": "python",
   "pygments_lexer": "ipython3",
   "version": "3.8.8"
  }
 },
 "nbformat": 4,
 "nbformat_minor": 5
}
