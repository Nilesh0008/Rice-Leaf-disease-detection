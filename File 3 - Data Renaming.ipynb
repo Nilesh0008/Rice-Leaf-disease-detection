{
 "cells": [
  {
   "cell_type": "markdown",
   "id": "26ec58fb",
   "metadata": {},
   "source": [
    "## PRCP-1001-RiceLeaf  & Team Code - PTID-CDS-DEC21-1251 - File no.3"
   ]
  },
  {
   "cell_type": "markdown",
   "id": "c0b3bd8d",
   "metadata": {},
   "source": [
    "###  Converting the Augmented files names to a continous series file name for Train and Valid set  "
   ]
  },
  {
   "cell_type": "code",
   "execution_count": 1,
   "id": "de064d60",
   "metadata": {},
   "outputs": [],
   "source": [
    "import os"
   ]
  },
  {
   "cell_type": "code",
   "execution_count": 17,
   "id": "6285c32a",
   "metadata": {},
   "outputs": [],
   "source": [
    "folderPath=r\"E:\\Test1\\PRCP-1001-RiceLeaf\\Data\\train\\Bacterial leaf blight\"\n",
    "fileNumber = 1000"
   ]
  },
  {
   "cell_type": "code",
   "execution_count": 22,
   "id": "ebc91b31",
   "metadata": {},
   "outputs": [],
   "source": [
    "for filename in os.listdir(folderPath):\n",
    "    os.rename(folderPath+'\\\\'+filename,folderPath+'\\\\'+\"C\"+str(fileNumber)+'.JPG')\n",
    "    fileNumber+=1\n",
    "    "
   ]
  },
  {
   "cell_type": "code",
   "execution_count": 23,
   "id": "fc736c21",
   "metadata": {},
   "outputs": [],
   "source": [
    "folderPath=r\"E:\\Test1\\PRCP-1001-RiceLeaf\\Data\\train\\Brown spot\"\n",
    "fileNumber = 2000"
   ]
  },
  {
   "cell_type": "code",
   "execution_count": 24,
   "id": "e6d71bcd",
   "metadata": {},
   "outputs": [],
   "source": [
    "for filename in os.listdir(folderPath):\n",
    "    os.rename(folderPath+'\\\\'+filename,folderPath+'\\\\'+\"C\"+str(fileNumber)+'.JPG')\n",
    "    fileNumber+=1\n",
    "    "
   ]
  },
  {
   "cell_type": "code",
   "execution_count": 25,
   "id": "627694af",
   "metadata": {},
   "outputs": [],
   "source": [
    "folderPath=r\"E:\\Test1\\PRCP-1001-RiceLeaf\\Data\\train\\Leaf smut\"\n",
    "fileNumber = 3000"
   ]
  },
  {
   "cell_type": "code",
   "execution_count": 26,
   "id": "bd318951",
   "metadata": {},
   "outputs": [],
   "source": [
    "for filename in os.listdir(folderPath):\n",
    "    os.rename(folderPath+'\\\\'+filename,folderPath+'\\\\'+\"C\"+str(fileNumber)+'.JPG')\n",
    "    fileNumber+=1\n",
    "    "
   ]
  },
  {
   "cell_type": "code",
   "execution_count": 27,
   "id": "2497e611",
   "metadata": {},
   "outputs": [],
   "source": [
    "folderPath=r\"E:\\Test1\\PRCP-1001-RiceLeaf\\Data\\valid\\Bacterial leaf blight\"\n",
    "fileNumber = 4000"
   ]
  },
  {
   "cell_type": "code",
   "execution_count": 28,
   "id": "ba5a189f",
   "metadata": {},
   "outputs": [],
   "source": [
    "for filename in os.listdir(folderPath):\n",
    "    os.rename(folderPath+'\\\\'+filename,folderPath+'\\\\'+\"C\"+str(fileNumber)+'.JPG')\n",
    "    fileNumber+=1"
   ]
  },
  {
   "cell_type": "code",
   "execution_count": 29,
   "id": "3ae47d60",
   "metadata": {},
   "outputs": [],
   "source": [
    "folderPath=r\"E:\\Test1\\PRCP-1001-RiceLeaf\\Data\\valid\\Brown spot\"\n",
    "fileNumber = 5000"
   ]
  },
  {
   "cell_type": "code",
   "execution_count": 30,
   "id": "9d312405",
   "metadata": {},
   "outputs": [],
   "source": [
    "for filename in os.listdir(folderPath):\n",
    "    os.rename(folderPath+'\\\\'+filename,folderPath+'\\\\'+\"C\"+str(fileNumber)+'.JPG')\n",
    "    fileNumber+=1"
   ]
  },
  {
   "cell_type": "code",
   "execution_count": 31,
   "id": "181d83c2",
   "metadata": {},
   "outputs": [],
   "source": [
    "folderPath=r\"E:\\Test1\\PRCP-1001-RiceLeaf\\Data\\valid\\Leaf smut\"\n",
    "fileNumber = 6000"
   ]
  },
  {
   "cell_type": "code",
   "execution_count": 32,
   "id": "f5e14a96",
   "metadata": {},
   "outputs": [],
   "source": [
    "for filename in os.listdir(folderPath):\n",
    "    os.rename(folderPath+'\\\\'+filename,folderPath+'\\\\'+\"C\"+str(fileNumber)+'.JPG')\n",
    "    fileNumber+=1"
   ]
  },
  {
   "cell_type": "code",
   "execution_count": null,
   "id": "092dc8f4",
   "metadata": {},
   "outputs": [],
   "source": []
  }
 ],
 "metadata": {
  "kernelspec": {
   "display_name": "Python 3",
   "language": "python",
   "name": "python3"
  },
  "language_info": {
   "codemirror_mode": {
    "name": "ipython",
    "version": 3
   },
   "file_extension": ".py",
   "mimetype": "text/x-python",
   "name": "python",
   "nbconvert_exporter": "python",
   "pygments_lexer": "ipython3",
   "version": "3.8.8"
  }
 },
 "nbformat": 4,
 "nbformat_minor": 5
}
